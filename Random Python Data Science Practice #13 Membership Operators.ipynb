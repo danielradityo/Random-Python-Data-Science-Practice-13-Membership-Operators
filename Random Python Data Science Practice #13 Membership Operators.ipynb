{
 "cells": [
  {
   "cell_type": "markdown",
   "metadata": {},
   "source": [
    "## Random Python Data Science Practice #13"
   ]
  },
  {
   "cell_type": "markdown",
   "metadata": {},
   "source": [
    "## Membership Operators"
   ]
  },
  {
   "cell_type": "code",
   "execution_count": 9,
   "metadata": {},
   "outputs": [
    {
     "name": "stdout",
     "output_type": "stream",
     "text": [
      "['Burger', 'Pizza']\n",
      "('Burger', 'Pizza')\n",
      "{'Pizza', 'Burger'}\n",
      "{'Burger': 'America', 'Pizza': 'Italia'}\n"
     ]
    }
   ],
   "source": [
    "# Several Membership Operators\n",
    "food_list = ['Burger', 'Pizza'] # --> List\n",
    "food_tuple = ('Burger', 'Pizza') # --> Tuple\n",
    "food_set = {'Burger', 'Pizza'} # --> Set\n",
    "food_dict = {'Burger' : 'America', 'Pizza' : 'Italia'} # --> Dictionary\n",
    "print(food_list)\n",
    "print(food_tuple)\n",
    "print(food_set)\n",
    "print(food_dict)"
   ]
  },
  {
   "cell_type": "markdown",
   "metadata": {},
   "source": [
    "## in"
   ]
  },
  {
   "cell_type": "code",
   "execution_count": 15,
   "metadata": {},
   "outputs": [
    {
     "name": "stdout",
     "output_type": "stream",
     "text": [
      "Are Burger in food_list? True\n",
      "Are Hotdog in food_list? False\n",
      "Are Burger in food_tuple? True\n",
      "Are Hotdog in food_tuple? False\n",
      "Are Burger in food_set? True\n",
      "Are Hotdog in food_set? False\n",
      "Are Burger in food_dict? True\n",
      "Are Hotdog in food_dict? False\n"
     ]
    }
   ],
   "source": [
    "# \"in\" membership operator will return True if a statement are in the list, tuple, set, or dictionary\n",
    "print('Are Burger in food_list?', 'Burger' in food_list) # --> Result will true because Burger is in the list\n",
    "print('Are Hotdog in food_list?', 'Hotdog' in food_list) # --> Result will false because Hotdog is not in the list\n",
    "print('Are Burger in food_tuple?', 'Burger' in food_tuple) # --> Result will true because Burger is in the tuple\n",
    "print('Are Hotdog in food_tuple?', 'Hotdog' in food_tuple) # --> Result will false because Hotdog is not in the tuple\n",
    "print('Are Burger in food_set?', 'Burger' in food_set) # --> Result will true because Burger is in the set\n",
    "print('Are Hotdog in food_set?', 'Hotdog' in food_set) # --> Result will false because Hotdog is not in the set\n",
    "print('Are Burger in food_dict?', 'Burger' in food_dict) # --> Result will true because Burger is in the dict\n",
    "print('Are Hotdog in food_dict?', 'Hotdog' in food_dict) # --> Result will false because Hotdog is not in the dict"
   ]
  },
  {
   "cell_type": "markdown",
   "metadata": {},
   "source": [
    "## not in"
   ]
  },
  {
   "cell_type": "code",
   "execution_count": 17,
   "metadata": {},
   "outputs": [
    {
     "name": "stdout",
     "output_type": "stream",
     "text": [
      "Are Burger not in food_list? False\n",
      "Are Hotdog not in food_list? True\n",
      "Are Burger not in food_tuple? False\n",
      "Are Hotdog not in food_tuple? True\n",
      "Are Burger not in food_set? False\n",
      "Are Hotdog not in food_set? True\n",
      "Are Burger not in food_dict? False\n",
      "Are Hotdog not in food_dict? True\n"
     ]
    }
   ],
   "source": [
    "# \"not in\" membership operator will return True if a statement are not in the list, tuple, set, or dictionary\n",
    "print('Are Burger not in food_list?', 'Burger' not in food_list) # --> Result will false because Burger is in the list\n",
    "print('Are Hotdog not in food_list?', 'Hotdog' not in food_list) # --> Result will true because Hotdog is not in the list\n",
    "print('Are Burger not in food_tuple?', 'Burger' not in food_tuple) # --> Result will false because Burger is in the tuple\n",
    "print('Are Hotdog not in food_tuple?', 'Hotdog' not in food_tuple) # --> Result will true because Hotdog is not in the tuple\n",
    "print('Are Burger not in food_set?', 'Burger' not in food_set) # --> Result will false because Burger is in the set\n",
    "print('Are Hotdog not in food_set?', 'Hotdog' not in food_set) # --> Result will true because Hotdog is not in the set\n",
    "print('Are Burger not in food_dict?', 'Burger' not in food_dict) # --> Result will false because Burger is in the dict\n",
    "print('Are Hotdog not in food_dict?', 'Hotdog' not in food_dict) # --> Result will true because Hotdog is not in the dict"
   ]
  },
  {
   "cell_type": "code",
   "execution_count": null,
   "metadata": {},
   "outputs": [],
   "source": []
  }
 ],
 "metadata": {
  "kernelspec": {
   "display_name": "Python 3",
   "language": "python",
   "name": "python3"
  },
  "language_info": {
   "codemirror_mode": {
    "name": "ipython",
    "version": 3
   },
   "file_extension": ".py",
   "mimetype": "text/x-python",
   "name": "python",
   "nbconvert_exporter": "python",
   "pygments_lexer": "ipython3",
   "version": "3.8.5"
  }
 },
 "nbformat": 4,
 "nbformat_minor": 4
}
